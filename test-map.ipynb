{
    "nbformat_minor": 1, 
    "cells": [
        {
            "execution_count": null, 
            "cell_type": "code", 
            "metadata": {}, 
            "outputs": [], 
            "source": "import pandas as pd \nimport requests\nfrom bs4 import BeautifulSoup\nprint('Libraries imported.')\n\nwikipedia_url = requests.get('https://en.wikipedia.org/wiki/List_of_postal_codes_of_Canada:_M').text\npage = BeautifulSoup(wikipedia_url, 'html.parser')\npage\n\ntable = page.body.table.tbody\n\n#getting the cells\ndef table_cell(i):\n    cells = i.find_all('td')\n    row = []\n    \n    for cell in cells:\n        if cell.a:            \n            if (cell.a.text):\n                row.append(cell.a.text)\n                continue\n        row.append(cell.string.strip())\n        \n    return row\n#getting the rows\ndef table_row():    \n    data = []  \n    \n    for tr in table.find_all('tr'):\n        row = table_cell(tr)\n        if len(row) != 3:\n            continue\n        data.append(row)        \n    \n    return data\n\n#creating dataframe\ndata = table_row()\ndf = pd.DataFrame(data, columns=['Postcode', 'Borough', 'Neighbourhood'])\ndf = df.rename(columns = {'Postcode':'PostalCode', 'Neighbourhood':'Neighborhood'})\ndf.head(7)\n\ndf1 = df[df.Borough != 'Not assigned']\ndf1.head()\n\ndf1.loc[df1['Neighborhood'] == \"Not assigned\", 'Neighborhood'] = df1.loc[df1['Neighborhood'] == \"Not assigned\", 'Borough']\ndf1.head(10)\n\ndf2 = df1.groupby(['PostalCode','Borough'])['Neighborhood'].apply(', '.join).reset_index()\ndf2.head(10)\n\ngeo_coord_url=\"http://cocl.us/Geospatial_data\"\ndf_geo_coord = pd.read_csv(geo_coord_url)\ndf_geo_coord.head()\n\ndf_geo_coord = df_geo_coord.rename(columns = {'Postal Code':'PostalCode'})\ndf_geo_coord.head()\n\ndf_full = pd.merge(df2,df_geo_coord, on='PostalCode')\ndf_full.head()"
        }, 
        {
            "execution_count": 1, 
            "cell_type": "code", 
            "metadata": {}, 
            "outputs": [
                {
                    "output_type": "stream", 
                    "name": "stdout", 
                    "text": "Solving environment: done\n\n# All requested packages already installed.\n\nLibraries imported.\n"
                }
            ], 
            "source": "import numpy as np # library to handle data in a vectorized manner\n\nimport pandas as pd # library for data analsysis\n\nimport json # library to handle JSON files\n\n#!conda install -c conda-forge geopy --yes # uncomment this line if you haven't completed the Foursquare API lab\nfrom geopy.geocoders import Nominatim # convert an address into latitude and longitude values\n\nimport requests # library to handle requests\nfrom pandas.io.json import json_normalize # tranform JSON file into a pandas dataframe\n\n# Matplotlib and associated plotting modules\nimport matplotlib.cm as cm\nimport matplotlib.colors as colors\n\n# import k-means from clustering stage\nfrom sklearn.cluster import KMeans\n\n!conda install -c conda-forge folium=0.5.0 --yes # uncomment this line if you haven't completed the Foursquare API lab\nimport folium # map rendering library\n\nprint('Libraries imported.')"
        }, 
        {
            "execution_count": 2, 
            "cell_type": "code", 
            "metadata": {}, 
            "outputs": [
                {
                    "output_type": "stream", 
                    "name": "stdout", 
                    "text": "The geograpical coordinates of Toronto are 43.653963, -79.387207.\n"
                }
            ], 
            "source": "address1 = 'Toronto, ON'\n\ngeolocator = Nominatim(user_agent=\"to_explorer\")\nlocation = geolocator.geocode(address1)\nlatitude = location.latitude\nlongitude = location.longitude\nprint('The geograpical coordinates of Toronto are {}, {}.'.format(latitude, longitude))"
        }, 
        {
            "execution_count": null, 
            "cell_type": "code", 
            "metadata": {}, 
            "outputs": [], 
            "source": "# create map using latitude and longitude\nmap_toronto = folium.Map(location=[latitude, longitude], zoom_start=10)\n\n# add markers to map\nfor lat, lng, borough, neighborhood in zip(df_full['Latitude'], df_full['Longitude'], df_full['Borough'], df_full['Neighborhood']):\n    label = '{}, {}'.format(neighborhood, borough)\n    label = folium.Popup(label, parse_html=True)\n    folium.CircleMarker(\n        [lat, lng],\n        radius=5,\n        popup=label,\n        color='blue',\n        fill=True,\n        fill_color='#3186cc',\n        fill_opacity=0.7,\n        parse_html=False).add_to(map_toronto)  \n    \nmap_toronto"
        }
    ], 
    "metadata": {
        "kernelspec": {
            "display_name": "Python 3.5", 
            "name": "python3", 
            "language": "python"
        }, 
        "language_info": {
            "mimetype": "text/x-python", 
            "nbconvert_exporter": "python", 
            "version": "3.5.5", 
            "name": "python", 
            "file_extension": ".py", 
            "pygments_lexer": "ipython3", 
            "codemirror_mode": {
                "version": 3, 
                "name": "ipython"
            }
        }
    }, 
    "nbformat": 4
}